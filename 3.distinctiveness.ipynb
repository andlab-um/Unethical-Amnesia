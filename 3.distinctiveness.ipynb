{
 "cells": [
  {
   "cell_type": "code",
   "execution_count": 9,
   "metadata": {},
   "outputs": [],
   "source": [
    "from __future__ import division\n",
    "import shutil as sh\n",
    "from os.path import join \n",
    "from glob import glob\n",
    "import itertools\n",
    "from distutils.dir_util import copy_tree\n",
    "import shutil as shutil\n",
    "from glob import glob\n",
    "import pandas as pd\n",
    "\n",
    "import numpy as np\n",
    "from subprocess import check_call\n",
    "import matplotlib.pyplot as plt\n",
    "#from utilities import ensure_dir, get_n_vols\n",
    "from pylab import plot, ylim, xlim, show, xlabel, ylabel, grid\n",
    "from numpy import linspace, loadtxt, ones, convolve\n",
    "from nipype.interfaces.dcm2nii import Dcm2niix, Dcm2nii\n",
    "#import nipype_init_new\n",
    "#nipype_init_new.init()\n",
    "from nilearn.connectome import sym_matrix_to_vec, vec_to_sym_matrix,ConnectivityMeasure\n",
    "from nilearn.plotting import plot_stat_map, plot_anat, plot_img, view_img, plot_matrix, plot_glass_brain\n",
    "from nilearn.image import concat_imgs, mean_img, load_img, index_img, math_img, resample_img\n",
    "from nilearn.masking import apply_mask\n",
    "from nilearn.plotting import plot_stat_map, plot_anat, plot_img, view_img\n",
    "from nilearn import plotting\n",
    "from statsmodels.sandbox.stats.multicomp import multipletests as multi\n",
    "from scipy.stats import norm\n",
    "import statsmodels.stats.multitest as ssm\n",
    "import statsmodels\n",
    "import seaborn as sns\n",
    "from scipy.stats import pearsonr,ttest_ind\n",
    "from sklearn.model_selection import StratifiedKFold,permutation_test_score\n",
    "from sklearn.svm import SVC\n",
    "from sklearn.model_selection import LeaveOneOut\n",
    "from sklearn.svm import SVR\n",
    "import time"
   ]
  },
  {
   "cell_type": "code",
   "execution_count": 10,
   "metadata": {},
   "outputs": [],
   "source": [
    "# migrate functions in nistats to nilearn\n",
    "# https://nilearn.github.io/nistats_migration.html#design-matrix\n",
    "from nilearn.glm.first_level import FirstLevelModel\n",
    "#from nistats.thresholding import map_threshold # can not be migrate directly\n",
    "from nilearn.glm import threshold_stats_img\n",
    "from nilearn.reporting import get_clusters_table\n",
    "from nilearn.plotting import plot_contrast_matrix, plot_design_matrix\n",
    "from nilearn.glm.first_level import make_first_level_design_matrix\n",
    "from nilearn.glm.second_level import SecondLevelModel\n",
    "from nltools.data import Brain_Data"
   ]
  },
  {
   "cell_type": "code",
   "execution_count": 11,
   "metadata": {},
   "outputs": [],
   "source": [
    "import warnings\n",
    "warnings.filterwarnings(\"ignore\")"
   ]
  },
  {
   "cell_type": "code",
   "execution_count": 12,
   "metadata": {},
   "outputs": [],
   "source": [
    "def ensure_dir(path):\n",
    "    d = os.path.dirname(path)\n",
    "    if not os.path.exists(d):\n",
    "        os.makedirs(d)\n"
   ]
  },
  {
   "cell_type": "code",
   "execution_count": 13,
   "metadata": {},
   "outputs": [],
   "source": [
    "topdir='/home/haiyanwu/nas_data/experiment_data/uarep_only/'\n",
    "roi_dir=topdir+'3.ROIextraction/'\n",
    "mask_dir=roi_dir+'masks/'\n",
    "\n"
   ]
  },
  {
   "cell_type": "markdown",
   "metadata": {},
   "source": [
    "# distinctiveness"
   ]
  },
  {
   "cell_type": "code",
   "execution_count": 14,
   "metadata": {},
   "outputs": [
    {
     "data": {
      "text/plain": [
       "35"
      ]
     },
     "execution_count": 14,
     "metadata": {},
     "output_type": "execute_result"
    }
   ],
   "source": [
    "ROIs=['BA9-dlPFC','BA24-dACC','BA34-hip','lDLPFC','rDLPFC','ventral_striatum','putamen','rTPJ','lTPJ','BA21-MTG','BA23-PCC','BA47-vlPFC','mPFC',\n",
    "        'NAcc','ACC','BA33-rACC','amyg','amygL','amygR','precuneus','caudate','BA45-IFG','BA10-FPC']\n",
    "len(ROIs)"
   ]
  },
  {
   "cell_type": "code",
   "execution_count": 15,
   "metadata": {},
   "outputs": [
    {
     "data": {
      "text/plain": [
       "37"
      ]
     },
     "execution_count": 15,
     "metadata": {},
     "output_type": "execute_result"
    }
   ],
   "source": [
    "subList=[101,102,103,105,106,107,108,109,110,111,112,115,116,117,118,119,120,121,123,125,127,128,129,130,131,132,133,134,135,136,137,138,139,140,141,142,143]\n",
    "len(subList)"
   ]
  },
  {
   "cell_type": "code",
   "execution_count": 18,
   "metadata": {},
   "outputs": [],
   "source": [
    "\n",
    "import os\n",
    "glmdir=topdir+'1.GLM/results/GLM7uarep_LSS_unsmooth/betamap/'\n",
    "writer = pd.ExcelWriter('ROIdistinctiveness_elie_rep.xlsx', engine='xlsxwriter')\n",
    "#for indroi, roi in enumerate(ROIs):\n",
    "for indroi, roi in enumerate(ROIs):\n",
    "    mask=Brain_Data(mask_dir+'Mask_%s.nii'%(roi))\n",
    "    \n",
    "    Dists=[]\n",
    "    for indsub, subno in enumerate(subList):\n",
    "        \n",
    "        subdist=[]\n",
    "        betalists=os.listdir(glmdir+'sub-%03d'%(subno))\n",
    "        for runno in [1,2,3,4,5,6,7,8]:\n",
    "            trialdata=Brain_Data()\n",
    "            for menuno in range(1,13):\n",
    "                fname=glmdir+'sub-%03d/sub-%03d_run%01d_menu%01d_eff_map.nii.gz'%(subno,subno,runno,menuno*3-1)\n",
    "\n",
    "          \n",
    "                trialdata=trialdata.append(Brain_Data(fname))\n",
    "            \n",
    "            \n",
    "                \n",
    "            dist = sum(trialdata.apply_mask(mask).distance(metric='correlation').data)/j/(j-1)\n",
    "            subdist.append(dist)\n",
    "        Dists.append(subdist)\n",
    "    Dists=pd.DataFrame(Dists,index=subList)\n",
    "    Dists.to_excel(writer, index=subList,header=[1,2,3,4,5,6,7,8], sheet_name='%s' % roi, startcol=1)\n",
    "           \n",
    "writer.save()   "
   ]
  }
 ],
 "metadata": {
  "kernelspec": {
   "display_name": "Python 3 (ipykernel)",
   "language": "python",
   "name": "python3"
  },
  "language_info": {
   "codemirror_mode": {
    "name": "ipython",
    "version": 3
   },
   "file_extension": ".py",
   "mimetype": "text/x-python",
   "name": "python",
   "nbconvert_exporter": "python",
   "pygments_lexer": "ipython3",
   "version": "3.9.5"
  },
  "vscode": {
   "interpreter": {
    "hash": "3566720a2af2275bcfdb8140de8dfb806c1ce8c6b15262d5c68946f54da6026c"
   }
  }
 },
 "nbformat": 4,
 "nbformat_minor": 4
}
