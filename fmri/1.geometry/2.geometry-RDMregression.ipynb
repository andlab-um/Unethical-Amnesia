{
 "cells": [
  {
   "cell_type": "code",
   "execution_count": 1,
   "metadata": {},
   "outputs": [
    {
     "name": "stderr",
     "output_type": "stream",
     "text": [
      "/home/haiyanwu/miniconda3/lib/python3.9/site-packages/nilearn/datasets/__init__.py:93: FutureWarning: Fetchers from the nilearn.datasets module will be updated in version 0.9 to return python strings instead of bytes and Pandas dataframes instead of Numpy arrays.\n",
      "  warn(\"Fetchers from the nilearn.datasets module will be \"\n",
      "/home/haiyanwu/miniconda3/lib/python3.9/site-packages/nilearn/glm/__init__.py:55: FutureWarning: The nilearn.glm module is experimental. It may change in any future release of Nilearn.\n",
      "  warn('The nilearn.glm module is experimental. '\n"
     ]
    }
   ],
   "source": [
    "import numpy as np\n",
    "import pandas as pd\n",
    "from scipy.spatial.distance import squareform, pdist\n",
    "from scipy.stats import zscore\n",
    "from sklearn import linear_model\n",
    "from math import cos, sin, pi, isnan\n",
    "import xlsxwriter\n",
    "import nibabel as nib\n",
    "from nilearn.glm.second_level import SecondLevelModel\n",
    "from nilearn.image import load_img, threshold_img\n",
    "from nilearn.glm import threshold_stats_img\n",
    "from nilearn import plotting\n",
    "import matplotlib.pyplot as plt\n",
    "from nltools.data import Brain_Data"
   ]
  },
  {
   "cell_type": "code",
   "execution_count": 2,
   "metadata": {},
   "outputs": [],
   "source": [
    "topdir='/media/haiyanwu/HDD4/fmri2019/'\n",
    "evdir=topdir+'2.GLM/event_files/'\n",
    "prepdir=topdir+'fmriprep-deriv/fmriprep/'\n",
    "glmdir=topdir+'2.GLM/3.GLM_SPM/results/'\n",
    "maskdir=topdir+'3.ROIextraction/masks/'"
   ]
  },
  {
   "cell_type": "code",
   "execution_count": 3,
   "metadata": {},
   "outputs": [
    {
     "data": {
      "text/plain": [
       "26"
      ]
     },
     "execution_count": 3,
     "metadata": {},
     "output_type": "execute_result"
    }
   ],
   "source": [
    "subList=[102,103,105,107,108,110,111,112,113,114,115,116,117,118,119,120,121,122,123,125,127,128,129,130,131,132]\n",
    "len(subList)"
   ]
  },
  {
   "cell_type": "markdown",
   "metadata": {},
   "source": [
    "# compute modelRDMs\n",
    "### models: gridness; only consistency; only money; diagonal; par"
   ]
  },
  {
   "cell_type": "code",
   "execution_count": 10,
   "metadata": {},
   "outputs": [],
   "source": [
    "\n",
    "all=pd.read_csv(topdir+'4.DDM-related/fMRI_sessionData_DDM.csv',sep=',')\n",
    "\n",
    "metric_model='seuclidean'\n",
    "for subno in subList:\n",
    "    dist=[]\n",
    "\n",
    "    data=all.loc[all['subj']==subno,:]\n",
    "    data=data[data['RT']<=4]\n",
    "    data=data.groupby(['former_diff','diff','islie']).size().reset_index()\n",
    "    data=data[data['former_diff']!=0]\n",
    "    data.reset_index(inplace=True)\n",
    "    #data['diff']=zscore(data['diff'])\n",
    "    #data['former_diff']=zscore(data['former_diff'])\n",
    "\n",
    "    # 1. gridness\n",
    "    dist1=pdist(data.loc[:,['islie','diff','former_diff']],metric=metric_model)\n",
    "\n",
    "    # 2. orth1\n",
    "    data['orth1_con']=data['former_diff']\n",
    "    data['orth1_mon']=data['diff']\n",
    "    data.loc[data['islie']==0,'orth1_con']=0\n",
    "    data.loc[data['islie']==1,'orth1_mon']=0\n",
    "    dist2=pdist(data.loc[:,['islie','orth1_con','orth1_mon']],metric=metric_model)\n",
    "\n",
    "    # 3. orth2\n",
    "    data['orth2_con']=data['former_diff']\n",
    "    data['orth2_mon']=data['diff']\n",
    "    data.loc[data['islie']==0,'orth2_mon']=0\n",
    "    data.loc[data['islie']==1,'orth2_con']=0\n",
    "    dist3=pdist(data.loc[:,['islie','orth2_con','orth2_mon']],metric=metric_model)\n",
    "\n",
    "    # 4. par1\n",
    "    data['par1']=data['former_diff']*(-1)\n",
    "    data.loc[data['islie']==1,'par1']=data.loc[data['islie']==1]['diff']\n",
    "    dist4=pdist(data.loc[:,['islie','par1']],metric=metric_model)\n",
    "    \n",
    "\n",
    "    # 5. par2\n",
    "    data['par2']=data['former_diff']\n",
    "    data.loc[data['islie']==1,'par2']=data.loc[data['islie']==1]['diff']\n",
    "    dist5=pdist(data.loc[:,['islie','par2']],metric=metric_model)\n",
    "\n",
    "    # 6. par3\n",
    "    data['par3']=data['former_diff']\n",
    "    data.loc[data['islie']==0,'par3']=data.loc[data['islie']==0]['diff']\n",
    "    dist6=pdist(data.loc[:,['islie','par3']],metric=metric_model)\n",
    "    \n",
    "\n",
    "    # 7. par4\n",
    "    data['par4']=data['former_diff']\n",
    "    data.loc[data['islie']==0,'par4']=data.loc[data['islie']==0]['diff']*(-1)\n",
    "    dist7=pdist(data.loc[:,['islie','par4']],metric=metric_model)\n",
    "\n",
    "    # 8. rotgrid1\n",
    "    data['rotgrid1_con']=data['former_diff']\n",
    "    data['rotgrid1_mon']=data['diff']\n",
    "    data.loc[data['islie']==0,'rotgrid1_con']=data.loc[data['islie']==0]['diff']*(-1)\n",
    "    data.loc[data['islie']==0,'rotgrid1_mon']=data.loc[data['islie']==0]['former_diff']\n",
    "    dist8=pdist(data.loc[:,['islie','rotgrid1_con','rotgrid1_mon']],metric=metric_model)\n",
    "\n",
    "    # 9. rotgrid2\n",
    "    data['rotgrid2_con']=data['former_diff']\n",
    "    data['rotgrid2_mon']=data['diff']\n",
    "    data.loc[data['islie']==0,'rotgrid2_con']=data.loc[data['islie']==0]['diff']\n",
    "    data.loc[data['islie']==0,'rotgrid2_mon']=data.loc[data['islie']==0]['former_diff']*(-1)\n",
    "    dist9=pdist(data.loc[:,['islie','rotgrid2_con','rotgrid2_mon']],metric=metric_model)\n",
    "\n",
    "    \n",
    "\n",
    "    # 10. only consistency\n",
    "    dist10=pdist(data.loc[:,['islie','former_diff']],metric=metric_model)\n",
    "\n",
    "    # 11. only money\n",
    "    dist11=pdist(data.loc[:,['islie','diff']],metric=metric_model)\n",
    "\n",
    "    # 12. diagonal\n",
    "    data['diag']=data['diff']/2+data['former_diff']/2\n",
    "    \n",
    "\n",
    "    dist12=pdist(data.loc[:,['islie','diag','diag']],metric=metric_model)\n",
    "\n",
    "\n",
    "\n",
    "\n",
    "    dist.append(dist1)\n",
    "    dist.append(dist2)\n",
    "    dist.append(dist3)\n",
    "    dist.append(dist4)\n",
    "    dist.append(dist5)\n",
    "\n",
    "    dist.append(dist6)\n",
    "    dist.append(dist7)\n",
    "    dist.append(dist8)\n",
    "    dist.append(dist9)\n",
    "    dist.append(dist10)\n",
    "    dist.append(dist11)\n",
    "    dist.append(dist12)\n",
    "  \n",
    "\n",
    "    subdata=pd.DataFrame(dist)\n",
    "    subdata['subj']=subno\n",
    "    \n",
    "    subdata['model']=['grid','orth1','orth2','par1','par2','par3','par4','rotgrid1','rotgrid2','con','mon','diag']\n",
    "    subdata.to_csv('12modelRDMs0925/sub-%03d.csv'%subno)\n",
    "\n",
    "  "
   ]
  },
  {
   "cell_type": "markdown",
   "metadata": {},
   "source": [
    "# RDM regression within ROIs"
   ]
  },
  {
   "cell_type": "code",
   "execution_count": 11,
   "metadata": {},
   "outputs": [
    {
     "data": {
      "text/plain": [
       "28"
      ]
     },
     "execution_count": 11,
     "metadata": {},
     "output_type": "execute_result"
    }
   ],
   "source": [
    "ROIs=['BA6-SMA','BA9-dlPFC','BA13-insula','BA24-dACC',\n",
    "        'BA28-hip1','BA34-hip','lTPJ','BA23-PCC','OFC']\n",
    "len(ROIs)"
   ]
  },
  {
   "cell_type": "code",
   "execution_count": 4,
   "metadata": {},
   "outputs": [],
   "source": [
    "ROIs=['precuneus']"
   ]
  },
  {
   "cell_type": "code",
   "execution_count": 5,
   "metadata": {},
   "outputs": [],
   "source": [
    "def drop_na(z):\n",
    "    ztt=[]\n",
    "    for i in z:\n",
    "        if not isnan(i):\n",
    "            ztt.append(i)\n",
    "    return ztt"
   ]
  },
  {
   "cell_type": "markdown",
   "metadata": {},
   "source": []
  },
  {
   "cell_type": "code",
   "execution_count": 7,
   "metadata": {},
   "outputs": [],
   "source": [
    "all=pd.read_csv(topdir+'4.DDM-related/fMRI_sessionData_DDM.csv',sep=',')\n",
    "results={}\n",
    "writer=pd.ExcelWriter('RDMregression-12models0925.xlsx',engine='xlsxwriter')\n",
    "for subno in subList:\n",
    "\n",
    "    modelRDM=pd.read_csv('12modelRDMs0925/sub-%03d.csv'%subno,index_col=0)\n",
    "    results['sub-%03d'%subno]={}\n",
    "\n",
    "    length=len(list(modelRDM.iloc[0,:]))-2\n",
    "\n",
    "    grid=drop_na(list(modelRDM.iloc[0,0:length]))\n",
    "    orth1=drop_na(list(modelRDM.iloc[1,0:length]))\n",
    "    orth2=drop_na(list(modelRDM.iloc[2,0:length]))\n",
    "    par1=drop_na(list(modelRDM.iloc[3,0:length]))\n",
    "    par2=drop_na(list(modelRDM.iloc[4,0:length]))\n",
    "    par3=drop_na(list(modelRDM.iloc[5,0:length]))\n",
    "    par4=drop_na(list(modelRDM.iloc[6,0:length]))\n",
    "    rotgrid1=drop_na(list(modelRDM.iloc[7,0:length]))\n",
    "    rotgrid2=drop_na(list(modelRDM.iloc[8,0:length]))\n",
    "    con=drop_na(list(modelRDM.iloc[9,0:length]))\n",
    "    mon=drop_na(list(modelRDM.iloc[10,0:length]))\n",
    "    diag=drop_na(list(modelRDM.iloc[11,0:length]))\n",
    "            \n",
    "    \n",
    "    d=all[all['subj']==subno]\n",
    "    d=d[d['RT']<=4]\n",
    "    d=d.groupby(['former_diff','diff','islie']).size().reset_index()\n",
    "    d=d[d['former_diff']!=0]\n",
    "    d['combination']=list(map(lambda x,y,z:'con%d_mon%d_islie%d'%(x,y,z),d['former_diff'],d['diff'],d['islie']))\n",
    "\n",
    "\n",
    "\n",
    "    betas=Brain_Data()\n",
    "    \n",
    "\n",
    "    for cname in d['combination'].to_list():\n",
    "        fname=glmdir+'GLM6/betamap/sub-%03d/sub-%03d_%s_eff_map.nii.gz'%(subno,subno,cname)\n",
    "        betas=betas.append(Brain_Data(fname))\n",
    "\n",
    "    for roi in ROIs:\n",
    "        results['sub-%03d'%subno][roi]=[]\n",
    "        mask=Brain_Data(maskdir+'Mask_%s.nii'%(roi))\n",
    "        brainDist = betas.apply_mask(mask).distance(metric='correlation')\n",
    "    \n",
    "\n",
    "        # perform regression\n",
    "        Y=pd.DataFrame(brainDist.data)\n",
    "        X=pd.DataFrame([grid,orth1,orth2,par1,par2,par3,par4,rotgrid1,rotgrid2,con,mon,diag]).T#\n",
    "\n",
    "        lm = linear_model.LinearRegression()\n",
    "        fit=lm.fit(X, Y)\n",
    "        results['sub-%03d'%subno][roi]=fit.coef_[0]\n",
    "    \n",
    "    results['sub-%03d'%subno]=pd.DataFrame.from_dict(results['sub-%03d'%subno])\n",
    "    results['sub-%03d'%subno].to_excel(writer,sheet_name='sub-%03d'%subno,startcol=0,engine='xlsxwriter')\n",
    "writer.save()\n",
    "    "
   ]
  },
  {
   "cell_type": "markdown",
   "metadata": {},
   "source": [
    "# generate brain RDM"
   ]
  },
  {
   "cell_type": "code",
   "execution_count": 5,
   "metadata": {},
   "outputs": [
    {
     "name": "stderr",
     "output_type": "stream",
     "text": [
      "/home/haiyanwu/miniconda3/lib/python3.9/site-packages/nilearn/image/resampling.py:273: UserWarning: Resampling binary images with continuous or linear interpolation. This might lead to unexpected results. You might consider using nearest interpolation instead.\n",
      "  warnings.warn(\"Resampling binary images with continuous or \"\n",
      "/home/haiyanwu/miniconda3/lib/python3.9/site-packages/nilearn/image/resampling.py:273: UserWarning: Resampling binary images with continuous or linear interpolation. This might lead to unexpected results. You might consider using nearest interpolation instead.\n",
      "  warnings.warn(\"Resampling binary images with continuous or \"\n",
      "/home/haiyanwu/miniconda3/lib/python3.9/site-packages/nilearn/image/resampling.py:273: UserWarning: Resampling binary images with continuous or linear interpolation. This might lead to unexpected results. You might consider using nearest interpolation instead.\n",
      "  warnings.warn(\"Resampling binary images with continuous or \"\n",
      "/home/haiyanwu/miniconda3/lib/python3.9/site-packages/nilearn/image/resampling.py:273: UserWarning: Resampling binary images with continuous or linear interpolation. This might lead to unexpected results. You might consider using nearest interpolation instead.\n",
      "  warnings.warn(\"Resampling binary images with continuous or \"\n",
      "/home/haiyanwu/miniconda3/lib/python3.9/site-packages/nilearn/image/resampling.py:273: UserWarning: Resampling binary images with continuous or linear interpolation. This might lead to unexpected results. You might consider using nearest interpolation instead.\n",
      "  warnings.warn(\"Resampling binary images with continuous or \"\n",
      "/home/haiyanwu/miniconda3/lib/python3.9/site-packages/nilearn/image/resampling.py:273: UserWarning: Resampling binary images with continuous or linear interpolation. This might lead to unexpected results. You might consider using nearest interpolation instead.\n",
      "  warnings.warn(\"Resampling binary images with continuous or \"\n",
      "/home/haiyanwu/miniconda3/lib/python3.9/site-packages/nilearn/image/resampling.py:273: UserWarning: Resampling binary images with continuous or linear interpolation. This might lead to unexpected results. You might consider using nearest interpolation instead.\n",
      "  warnings.warn(\"Resampling binary images with continuous or \"\n",
      "/home/haiyanwu/miniconda3/lib/python3.9/site-packages/nilearn/image/resampling.py:273: UserWarning: Resampling binary images with continuous or linear interpolation. This might lead to unexpected results. You might consider using nearest interpolation instead.\n",
      "  warnings.warn(\"Resampling binary images with continuous or \"\n",
      "/home/haiyanwu/miniconda3/lib/python3.9/site-packages/nilearn/image/resampling.py:273: UserWarning: Resampling binary images with continuous or linear interpolation. This might lead to unexpected results. You might consider using nearest interpolation instead.\n",
      "  warnings.warn(\"Resampling binary images with continuous or \"\n",
      "/home/haiyanwu/miniconda3/lib/python3.9/site-packages/nilearn/image/resampling.py:273: UserWarning: Resampling binary images with continuous or linear interpolation. This might lead to unexpected results. You might consider using nearest interpolation instead.\n",
      "  warnings.warn(\"Resampling binary images with continuous or \"\n",
      "/home/haiyanwu/miniconda3/lib/python3.9/site-packages/nilearn/image/resampling.py:273: UserWarning: Resampling binary images with continuous or linear interpolation. This might lead to unexpected results. You might consider using nearest interpolation instead.\n",
      "  warnings.warn(\"Resampling binary images with continuous or \"\n",
      "/home/haiyanwu/miniconda3/lib/python3.9/site-packages/nilearn/image/resampling.py:273: UserWarning: Resampling binary images with continuous or linear interpolation. This might lead to unexpected results. You might consider using nearest interpolation instead.\n",
      "  warnings.warn(\"Resampling binary images with continuous or \"\n",
      "/home/haiyanwu/miniconda3/lib/python3.9/site-packages/nilearn/image/resampling.py:273: UserWarning: Resampling binary images with continuous or linear interpolation. This might lead to unexpected results. You might consider using nearest interpolation instead.\n",
      "  warnings.warn(\"Resampling binary images with continuous or \"\n",
      "/home/haiyanwu/miniconda3/lib/python3.9/site-packages/nilearn/image/resampling.py:273: UserWarning: Resampling binary images with continuous or linear interpolation. This might lead to unexpected results. You might consider using nearest interpolation instead.\n",
      "  warnings.warn(\"Resampling binary images with continuous or \"\n",
      "/home/haiyanwu/miniconda3/lib/python3.9/site-packages/nilearn/image/resampling.py:273: UserWarning: Resampling binary images with continuous or linear interpolation. This might lead to unexpected results. You might consider using nearest interpolation instead.\n",
      "  warnings.warn(\"Resampling binary images with continuous or \"\n",
      "/home/haiyanwu/miniconda3/lib/python3.9/site-packages/nilearn/image/resampling.py:273: UserWarning: Resampling binary images with continuous or linear interpolation. This might lead to unexpected results. You might consider using nearest interpolation instead.\n",
      "  warnings.warn(\"Resampling binary images with continuous or \"\n",
      "/home/haiyanwu/miniconda3/lib/python3.9/site-packages/nilearn/image/resampling.py:273: UserWarning: Resampling binary images with continuous or linear interpolation. This might lead to unexpected results. You might consider using nearest interpolation instead.\n",
      "  warnings.warn(\"Resampling binary images with continuous or \"\n",
      "/home/haiyanwu/miniconda3/lib/python3.9/site-packages/nilearn/image/resampling.py:273: UserWarning: Resampling binary images with continuous or linear interpolation. This might lead to unexpected results. You might consider using nearest interpolation instead.\n",
      "  warnings.warn(\"Resampling binary images with continuous or \"\n",
      "/home/haiyanwu/miniconda3/lib/python3.9/site-packages/nilearn/image/resampling.py:273: UserWarning: Resampling binary images with continuous or linear interpolation. This might lead to unexpected results. You might consider using nearest interpolation instead.\n",
      "  warnings.warn(\"Resampling binary images with continuous or \"\n",
      "/home/haiyanwu/miniconda3/lib/python3.9/site-packages/nilearn/image/resampling.py:273: UserWarning: Resampling binary images with continuous or linear interpolation. This might lead to unexpected results. You might consider using nearest interpolation instead.\n",
      "  warnings.warn(\"Resampling binary images with continuous or \"\n",
      "/home/haiyanwu/miniconda3/lib/python3.9/site-packages/nilearn/image/resampling.py:273: UserWarning: Resampling binary images with continuous or linear interpolation. This might lead to unexpected results. You might consider using nearest interpolation instead.\n",
      "  warnings.warn(\"Resampling binary images with continuous or \"\n",
      "/home/haiyanwu/miniconda3/lib/python3.9/site-packages/nilearn/image/resampling.py:273: UserWarning: Resampling binary images with continuous or linear interpolation. This might lead to unexpected results. You might consider using nearest interpolation instead.\n",
      "  warnings.warn(\"Resampling binary images with continuous or \"\n",
      "/home/haiyanwu/miniconda3/lib/python3.9/site-packages/nilearn/image/resampling.py:273: UserWarning: Resampling binary images with continuous or linear interpolation. This might lead to unexpected results. You might consider using nearest interpolation instead.\n",
      "  warnings.warn(\"Resampling binary images with continuous or \"\n",
      "/home/haiyanwu/miniconda3/lib/python3.9/site-packages/nilearn/image/resampling.py:273: UserWarning: Resampling binary images with continuous or linear interpolation. This might lead to unexpected results. You might consider using nearest interpolation instead.\n",
      "  warnings.warn(\"Resampling binary images with continuous or \"\n",
      "/home/haiyanwu/miniconda3/lib/python3.9/site-packages/nilearn/image/resampling.py:273: UserWarning: Resampling binary images with continuous or linear interpolation. This might lead to unexpected results. You might consider using nearest interpolation instead.\n",
      "  warnings.warn(\"Resampling binary images with continuous or \"\n",
      "/home/haiyanwu/miniconda3/lib/python3.9/site-packages/nilearn/image/resampling.py:273: UserWarning: Resampling binary images with continuous or linear interpolation. This might lead to unexpected results. You might consider using nearest interpolation instead.\n",
      "  warnings.warn(\"Resampling binary images with continuous or \"\n"
     ]
    }
   ],
   "source": [
    "all=pd.read_csv(topdir+'4.DDM-related/fMRI_sessionData_DDM.csv',sep=',')\n",
    "results={}\n",
    "writer=pd.ExcelWriter('brainRDMs0925_precuneus.xlsx',engine='xlsxwriter')\n",
    "for roi in ROIs:\n",
    "    results[roi]={}\n",
    "for subno in subList:\n",
    "\n",
    "    \n",
    "    d=all[all['subj']==subno]\n",
    "    d=d[d['RT']<=4]\n",
    "    d=d.groupby(['former_diff','diff','islie']).size().reset_index()\n",
    "    d=d[d['former_diff']!=0]\n",
    "    d['combination']=list(map(lambda x,y,z:'con%d_mon%d_islie%d'%(x,y,z),d['former_diff'],d['diff'],d['islie']))\n",
    "\n",
    "\n",
    "\n",
    "    betas=Brain_Data()\n",
    "    \n",
    "\n",
    "    for cname in d['combination'].to_list():\n",
    "        fname=glmdir+'GLM6/betamap/sub-%03d/sub-%03d_%s_eff_map.nii.gz'%(subno,subno,cname)\n",
    "        betas=betas.append(Brain_Data(fname))\n",
    "\n",
    "    for roi in ROIs:\n",
    "        mask=Brain_Data(maskdir+'Mask_%s.nii'%(roi))\n",
    "        brainDist = betas.apply_mask(mask).distance(metric='correlation')\n",
    "        results[roi]['sub-%03d'%subno]=brainDist.data\n",
    "    \n",
    "\n",
    "for roi in ROIs:\n",
    "\n",
    "   results[roi]=pd.DataFrame(dict([(k,pd.Series(v)) for k,v in results[roi].items()]))\n",
    "   \n",
    "   results[roi].to_excel(writer,sheet_name='%s'%roi,startcol=0,engine='xlsxwriter')\n",
    "writer.save()\n",
    "\n",
    "  "
   ]
  },
  {
   "cell_type": "code",
   "execution_count": null,
   "metadata": {},
   "outputs": [],
   "source": [
    "all=pd.read_csv(topdir+'4.DDM-related/fMRI_sessionData_DDM.csv',sep=',')\n",
    "results={}\n",
    "writer=pd.ExcelWriter('combination.xlsx',engine='xlsxwriter')\n",
    "for roi in ROIs:\n",
    "    results[roi]={}\n",
    "for subno in subList:\n",
    "\n",
    "    \n",
    "    d=all[all['subj']==subno]\n",
    "    d=d[d['RT']<=4]\n",
    "    d=d.groupby(['former_diff','diff','islie']).size().reset_index()\n",
    "    d=d[d['former_diff']!=0]\n",
    "    d['combination']=list(map(lambda x,y,z:'con%d_mon%d_islie%d'%(x,y,z),d['former_diff'],d['diff'],d['islie']))\n",
    "    d.to_excel(writer,sheet_name='%d'%subno,startcol=0,engine='xlsxwriter')\n",
    "    \n",
    "writer.save()\n",
    "\n"
   ]
  },
  {
   "cell_type": "markdown",
   "metadata": {},
   "source": []
  }
 ],
 "metadata": {
  "kernelspec": {
   "display_name": "Python 3 (ipykernel)",
   "language": "python",
   "name": "python3"
  },
  "language_info": {
   "codemirror_mode": {
    "name": "ipython",
    "version": 3
   },
   "file_extension": ".py",
   "mimetype": "text/x-python",
   "name": "python",
   "nbconvert_exporter": "python",
   "pygments_lexer": "ipython3",
   "version": "3.9.5"
  },
  "orig_nbformat": 4,
  "vscode": {
   "interpreter": {
    "hash": "3566720a2af2275bcfdb8140de8dfb806c1ce8c6b15262d5c68946f54da6026c"
   }
  }
 },
 "nbformat": 4,
 "nbformat_minor": 2
}
